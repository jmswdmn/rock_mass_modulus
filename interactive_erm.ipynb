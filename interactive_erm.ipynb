{
 "cells": [
  {
   "cell_type": "markdown",
   "metadata": {},
   "source": [
    "Rock mass modulus equations"
   ]
  },
  {
   "cell_type": "code",
   "execution_count": 1,
   "metadata": {},
   "outputs": [],
   "source": [
    "#------------------------------------\n",
    "#---------import libraries-----------\n",
    "#------------------------------------\n",
    "\n",
    "import numpy as np\n",
    "from numpy import dstack\n",
    "import pandas as pd\n",
    "import matplotlib.pyplot as plt\n",
    "%matplotlib inline\n",
    "import time\n",
    "\n",
    "from ipywidgets import interact, interactive, fixed, interact_manual, Layout, HBox, VBox\n",
    "import ipywidgets as widgets\n",
    "\n",
    "from IPython.display import display, clear_output"
   ]
  },
  {
   "cell_type": "markdown",
   "metadata": {},
   "source": [
    "Simplified Hoek & Diederichs (2006)\n",
    "<img src=\"simplified_h_d.png\">\n",
    "Generalised Hoek & Diederichs (2006)\n",
    "<img src=\"generalised_h_d.png\">\n",
    "Hoek, Carranza-Torres & Corkum (2002)\n",
    "<img src=\"h_c-t_c.png\">"
   ]
  },
  {
   "cell_type": "code",
   "execution_count": 2,
   "metadata": {},
   "outputs": [],
   "source": [
    "#GSI slider\n",
    "GSI_slider = widgets.IntRangeSlider(value=[0, 100],min=0,max=100,step=1,description='GSI:',disabled=False,continuous_update=False,orientation='horizontal',readout=True,readout_format='d',layout=Layout(width='500px'))\n",
    "\n",
    "#UCS input\n",
    "UCS = widgets.BoundedIntText(value=50,min=1,max=250,step=1,description='UCS [MPa]:', disabled=False)\n",
    "\n",
    "#Ei input\n",
    "Ei = widgets.BoundedIntText(value=20,min=1,max=100,step=1,description='Ei [GPa]:',disabled=False)\n",
    "\n",
    "#D input\n",
    "D = widgets.BoundedFloatText(value=0.0,min=0.0,max=1.0,step=0.25,description='D:',disabled=False)"
   ]
  },
  {
   "cell_type": "code",
   "execution_count": 3,
   "metadata": {},
   "outputs": [],
   "source": [
    "# define function\n",
    "def plotit(GSI_slider, UCS, Ei, D):\n",
    "    \n",
    "    #standard equations for plotting\n",
    "    GSI = np.arange(GSI_slider[0],(GSI_slider[1]+1))\n",
    "    simp_h_d = 100000*((1-D/2)/(1+(np.exp((75+25*D-GSI)/11))))/1000\n",
    "    gen_h_d = Ei*(0.02+((1-(D/2))/(1+np.exp((60+(15*D)-GSI)/11))))\n",
    "\n",
    "    if UCS <= 100:\n",
    "        h_ct_c = (1-(D/2))*(np.sqrt(UCS/100))*(np.power(10,((GSI-10)/40)))\n",
    "    else:\n",
    "        h_ct_c = (1-(D/2))*(np.power(10,((GSI-10)/40)))\n",
    "    \n",
    "    #equations for minimum GSI range\n",
    "    simp_h_d_GSI_min = 100000*((1-D/2)/(1+(np.exp((75+25*D-GSI_slider[0])/11))))/1000\n",
    "    gen_h_d_GSI_min = Ei*(0.02+((1-(D/2))/(1+np.exp((60+(15*D)-GSI_slider[0])/11))))\n",
    "\n",
    "    if UCS <= 100:\n",
    "        h_ct_c_GSI_min = (1-(D/2))*(np.sqrt(UCS/100))*(np.power(10,((GSI_slider[0]-10)/40)))\n",
    "    else:\n",
    "        h_ct_c_GSI_min = (1-(D/2))*(np.power(10,((GSI_slider[0]-10)/40)))\n",
    "        \n",
    "    #equations for maximum GSI range\n",
    "    simp_h_d_GSI_max = 100000*((1-D/2)/(1+(np.exp((75+25*D-GSI_slider[1])/11))))/1000\n",
    "    gen_h_d_GSI_max = Ei*(0.02+((1-(D/2))/(1+np.exp((60+(15*D)-GSI_slider[1])/11))))\n",
    "\n",
    "    if UCS <= 100:\n",
    "        h_ct_c_GSI_max = (1-(D/2))*(np.sqrt(UCS/100))*(np.power(10,((GSI_slider[1]-10)/40)))\n",
    "    else:\n",
    "        h_ct_c_GSI_max = (1-(D/2))*(np.power(10,((GSI_slider[1]-10)/40)))\n",
    "    \n",
    "    # define plot format\n",
    "    plt.style.use('seaborn-dark')\n",
    "    plt.rcParams.update({'font.size': 18})\n",
    "    plt.rcParams[\"axes.edgecolor\"] = \"0.15\"\n",
    "    plt.rcParams[\"axes.linewidth\"]  = 1.25\n",
    "\n",
    "    #make plot\n",
    "    fig = plt.figure(figsize =(13,13))\n",
    "\n",
    "    #plot equations\n",
    "    plt.plot(GSI, simp_h_d, 'k',\n",
    "             label='Simplified Hoek & Diederichs (2006). Erm = {:.1f} to {:.1f} GPa.'.format(simp_h_d_GSI_min,simp_h_d_GSI_max))\n",
    "    plt.plot(GSI, gen_h_d, 'g',\n",
    "             label='Generalised Hoek & Diederichs (2006). Erm = {:.1f} to {:.1f} GPa.'.format(gen_h_d_GSI_min,gen_h_d_GSI_max))\n",
    "    plt.plot(GSI, h_ct_c, 'b',\n",
    "             label='Hoek, Carranza-Torres & Corkum (2002). Erm = {:.1f} to {:.1f} GPa.'.format(h_ct_c_GSI_min,h_ct_c_GSI_max))    \n",
    "    plt.plot([0,100],[Ei,Ei],'r--', label='Intact Youngs Modulus = {} GPa.'.format(Ei))\n",
    "    plt.plot([], [], ' ', label='\\nPlotted with GSI range {} to {}. (UCS = {} MPa, D = {}).'.format(GSI_slider[0],GSI_slider[1],UCS, D))\n",
    "    #plot format\n",
    "    plt.xlabel('GSI')\n",
    "    plt.ylabel('Rock mass modulus [GPa]')\n",
    "    plt.grid()\n",
    "    axes = plt.gca()\n",
    "    stacked_array = dstack((simp_h_d,gen_h_d,h_ct_c))\n",
    "    maximum_stiffness = np.max(stacked_array)\n",
    "    if Ei > maximum_stiffness:\n",
    "        axes.set_ylim([0,(np.ceil(Ei)+10)])\n",
    "    else:\n",
    "        axes.set_ylim([0,(np.ceil(maximum_stiffness)+10)])\n",
    "    axes.set_xlim([GSI_slider[0],(GSI_slider[1])])\n",
    "    legend = plt.legend(frameon=True)\n",
    "    frame = legend.get_frame()\n",
    "    frame.set_facecolor('white')\n",
    "    frame.set_edgecolor('k')\n",
    "    plt.show()\n",
    "    "
   ]
  },
  {
   "cell_type": "code",
   "execution_count": 4,
   "metadata": {
    "scrolled": false
   },
   "outputs": [
    {
     "data": {
      "application/vnd.jupyter.widget-view+json": {
       "model_id": "a43e30061dff4e18a871b66fb067b261",
       "version_major": 2,
       "version_minor": 0
      },
      "text/plain": [
       "interactive(children=(IntRangeSlider(value=(0, 100), continuous_update=False, description='GSI:', layout=Layou…"
      ]
     },
     "metadata": {},
     "output_type": "display_data"
    }
   ],
   "source": [
    "interactive(plotit, GSI_slider=GSI_slider, UCS=UCS, Ei=Ei, D=D)"
   ]
  }
 ],
 "metadata": {
  "kernelspec": {
   "display_name": "Python 3",
   "language": "python",
   "name": "python3"
  },
  "language_info": {
   "codemirror_mode": {
    "name": "ipython",
    "version": 3
   },
   "file_extension": ".py",
   "mimetype": "text/x-python",
   "name": "python",
   "nbconvert_exporter": "python",
   "pygments_lexer": "ipython3",
   "version": "3.7.4"
  }
 },
 "nbformat": 4,
 "nbformat_minor": 2
}
